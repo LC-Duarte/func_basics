{
 "cells": [
  {
   "cell_type": "markdown",
   "metadata": {},
   "source": [
    "# Pontifícia Universidade Católica do Paraná"
   ]
  },
  {
   "cell_type": "markdown",
   "metadata": {},
   "source": [
    "## Bacharelado em Ciência da Computação"
   ]
  },
  {
   "cell_type": "markdown",
   "metadata": {},
   "source": [
    "### Programação Funcional"
   ]
  },
  {
   "cell_type": "markdown",
   "metadata": {},
   "source": [
    "#### Primeira Avaliação  - 1/10/2020"
   ]
  },
  {
   "cell_type": "markdown",
   "metadata": {},
   "source": [
    "`Nome completo do(a) estudante`:Leonardo Chaves Duarte"
   ]
  },
  {
   "cell_type": "markdown",
   "metadata": {},
   "source": [
    "`1. Observação: a interpretação das questões faz parte da prova`"
   ]
  },
  {
   "cell_type": "markdown",
   "metadata": {},
   "source": [
    "`2. A avaliação deve ser resolvida por preenchimento deste notebook`\n",
    "\n",
    "`3. Postar a sua resolução na pasta de exercício Primeira Avaliação do Blackboard`\n",
    "\n",
    "`4. As implementações devem ser exclusivamente em linguagem Julia`\n",
    "\n",
    "`5. Provas com quatões copiadas total ou parcialmente serão anuladas`"
   ]
  },
  {
   "cell_type": "code",
   "execution_count": null,
   "metadata": {},
   "outputs": [],
   "source": []
  },
  {
   "cell_type": "markdown",
   "metadata": {},
   "source": [
    "### ***Questão 1***"
   ]
  },
  {
   "cell_type": "markdown",
   "metadata": {},
   "source": [
    "- Escreva a sequência a seguir em ***notação de somatório*** para um número $n$ de termos dado:\n",
    "\n",
    "$$\\frac{1}{2}, \\frac{2}{3}, \\frac{3}{4},  \\frac{4}{5}, \\cdots $$"
   ]
  },
  {
   "cell_type": "markdown",
   "metadata": {},
   "source": [
    "#### *Resolução da Questão 1* (`1 ponto`)"
   ]
  },
  {
   "cell_type": "code",
   "execution_count": null,
   "metadata": {},
   "outputs": [],
   "source": [
    "$$\\sum_{k = 1}^{n} {k \\over k+1}$$"
   ]
  },
  {
   "cell_type": "markdown",
   "metadata": {},
   "source": [
    "$$\\sum_{k = 1}^{n} {k \\over k+1}$$"
   ]
  },
  {
   "cell_type": "markdown",
   "metadata": {},
   "source": [
    "### ***Questão 2***"
   ]
  },
  {
   "cell_type": "markdown",
   "metadata": {},
   "source": [
    "- Considere a série:\n",
    "\n",
    "$$\\frac{1}{2}+ \\frac{2}{3}+ \\frac{3}{4}+  \\frac{4}{5}+ \\cdots $$\n",
    "\n",
    "Para cada um dos modelos computacionais citados a seguir, escreva uma função que calcule o valor do somatório, com o número $n$ de parcelas passado como parâmetro:\n",
    "\n",
    "  - (a) o *Paradigma Imperativo de Programação* (`1,5 pontos`)\n",
    "  - (b) o *Paradigma Funcional* com uma função recursiva dotada de um único parâmetro (`1,5 pontos`)\n",
    "  - (c) o *Paradigma Funcional* com recursividade de cauda (`1,5 pontos`)"
   ]
  },
  {
   "cell_type": "markdown",
   "metadata": {},
   "source": [
    "#### *Resolução da Questão 2* (`4,5 pontos`)"
   ]
  },
  {
   "cell_type": "code",
   "execution_count": 2,
   "metadata": {},
   "outputs": [
    {
     "ename": "SyntaxError",
     "evalue": "invalid syntax (<ipython-input-2-82f82fb03250>, line 2)",
     "output_type": "error",
     "traceback": [
      "\u001b[0;36m  File \u001b[0;32m\"<ipython-input-2-82f82fb03250>\"\u001b[0;36m, line \u001b[0;32m2\u001b[0m\n\u001b[0;31m    function f_imperativa(n)\u001b[0m\n\u001b[0m                        ^\u001b[0m\n\u001b[0;31mSyntaxError\u001b[0m\u001b[0;31m:\u001b[0m invalid syntax\n"
     ]
    }
   ],
   "source": [
    "#2.A\n",
    "function f_imperativa(n)\n",
    "    r::Real = 0\n",
    "    for i in 1:n\n",
    "        r += i/(i+1)\n",
    "    end    \n",
    "    return r    \n",
    "end\n",
    "\n",
    "\n",
    "#2.B\n",
    "function f_recursiva(n)\n",
    "    if n > 1 \n",
    "        return (n)/(n+1)+f_recursiva(n-1)\n",
    "    else\n",
    "        return 1/2\n",
    "    end\n",
    "end\n",
    "\n",
    "#2.C \n",
    "function f_calda(n, atual)\n",
    "    if n > 1 \n",
    "        return fcalda( (n-1), (atual+(n/n+1)))\n",
    "    else\n",
    "        return atual\n",
    "    end\n",
    "end\n",
    "\n",
    "#2.C \n",
    "function f_calda_caller(n)\n",
    "    return f_calda(n, 0)\n",
    "end\n",
    "function f_calda(n, atual)\n",
    "    if n == 0 \n",
    "        return atual\n",
    "    end\n",
    "    return f_calda( n-1, atual+(n/(n+1)))\n",
    "end\n",
    "b =  f_recursiva(5)\n",
    "c = f_calda_caller(3)\n",
    "a = f_imperativa(3)\n",
    "println(\"a = \",a )\n",
    "println(\"b = \", b )   \n",
    "println(\"c = \", c ) \n",
    "\n",
    "\n",
    "\n"
   ]
  },
  {
   "cell_type": "markdown",
   "metadata": {},
   "source": [
    "### ***Questão 3***"
   ]
  },
  {
   "cell_type": "markdown",
   "metadata": {},
   "source": [
    "- Realize medições de performance para as funções implementadas na questão anterior.\n",
    "1. Faça a tabulação dos ***tempos de execução*** dos métodos à medida em que se varia o número $n$ de parcelas para respectivamente $10$, $100$, $1000$, $10000$.  (`1,5 pontos`)\n",
    "1. Verifique ***qual é o maior valor de $n$*** com que você consegue executar cada função, antes que ocorra algum tipo de parada de execução.  (`1 ponto`)"
   ]
  },
  {
   "cell_type": "markdown",
   "metadata": {},
   "source": [
    "#### *Resolução da Questão 3* (`2,5 pontos`)"
   ]
  },
  {
   "cell_type": "code",
   "execution_count": 1,
   "metadata": {},
   "outputs": [
    {
     "ename": "SyntaxError",
     "evalue": "invalid syntax (<ipython-input-1-2fffcb40e78f>, line 1)",
     "output_type": "error",
     "traceback": [
      "\u001b[0;36m  File \u001b[0;32m\"<ipython-input-1-2fffcb40e78f>\"\u001b[0;36m, line \u001b[0;32m1\u001b[0m\n\u001b[0;31m    @time f_recursiva(10)\u001b[0m\n\u001b[0m                    ^\u001b[0m\n\u001b[0;31mSyntaxError\u001b[0m\u001b[0;31m:\u001b[0m invalid syntax\n"
     ]
    }
   ],
   "source": [
    "@time f_imperativa(10)\n",
    "@time f_recursiva(10)\n",
    "@time f_calda_caller(10)\n",
    "\n",
    "@time f_imperativa(100)\n",
    "@time f_recursiva(100)\n",
    "@time f_calda_caller(100)\n",
    "\n",
    "@time f_imperativa(1000)\n",
    "@time f_recursiva(1000)\n",
    "@time f_calda_caller(1000)\n",
    "\n",
    "@time f_imperativa(10000)\n",
    "@time f_recursiva(10000)\n",
    "@time f_calda_caller(10000)\n",
    "\n",
    "\n",
    "@time f_imperativa(10000)\n",
    "@time f_recursiva(10000)\n",
    "@time f_calda_caller(10000)\n",
    "\n",
    "#3.2 \n",
    "\n",
    "f_imperativa(10000000000) #Não travou\n",
    "f_calda_caller(1000000)\n",
    "f_recursiva(1000000)\n",
    "\n"
   ]
  },
  {
   "cell_type": "markdown",
   "metadata": {},
   "source": [
    "### Questão 4"
   ]
  },
  {
   "cell_type": "markdown",
   "metadata": {},
   "source": [
    "Utilize o ***combinador Z*** para computar, recursivamente, a soma\n",
    "\n",
    "$$1 + 2 + 3 + 4+ \\cdots + n$$\n",
    "\n",
    "para um número de parcelas $n$ passado como parâmetro."
   ]
  },
  {
   "cell_type": "markdown",
   "metadata": {},
   "source": [
    "#### *Resolução da Questão 4* (`1 ponto`)"
   ]
  },
  {
   "cell_type": "code",
   "execution_count": null,
   "metadata": {},
   "outputs": [],
   "source": [
    "\n",
    "fz(f, n) = n == 0 ?  0 : n+f(n-1)\n",
    "Z(f) = n -> f(Z(f), n)\n",
    "println(\"Z= \", Z(fz)(3))"
   ]
  },
  {
   "cell_type": "markdown",
   "metadata": {},
   "source": [
    "### Questão 5"
   ]
  },
  {
   "cell_type": "markdown",
   "metadata": {},
   "source": [
    "Como você analisa a viabilidade de computar o somatório da questão anterior utilizando os combinadores ***U***, ***Y*** e ***Z***? Cite algumas linguagens em que essas computações podem ou não ser feitas. (Resposta com o mínimo de cinco linhas.)"
   ]
  },
  {
   "cell_type": "markdown",
   "metadata": {},
   "source": [
    "#### Resolução da Questão 5 (`1 ponto`)"
   ]
  },
  {
   "cell_type": "code",
   "execution_count": null,
   "metadata": {},
   "outputs": [],
   "source": [
    "\n",
    "U(n) = n == 0 ? 0 : n+U(n-1)\n",
    "println(\"U= \", U(3))\n",
    "\n",
    "Y = (f) -> ((x)->(f((y)->((x(x))(y)))))(\n",
    "  (x)->(f((y)->((x(x))(y))))\n",
    ")\n",
    "\n",
    "basefunc = (f) -> ((n)->(n==0 ? 0 : n+f(n-1)))\n",
    "y = Y(basefunc)"
   ]
  },
  {
   "cell_type": "markdown",
   "metadata": {},
   "source": [
    "É possivel implementar a função usando outros dois combinadores em julia\n",
    "\n",
    "Em algumas linguagems como java antes da versão 8 não é possivel implementar estes combinadores pois não pussuem suporte a lambda"
   ]
  }
 ],
 "metadata": {
  "kernelspec": {
   "display_name": "Python 3",
   "language": "python",
   "name": "python3"
  },
  "language_info": {
   "codemirror_mode": {
    "name": "ipython",
    "version": 3
   },
   "file_extension": ".py",
   "mimetype": "text/x-python",
   "name": "python",
   "nbconvert_exporter": "python",
   "pygments_lexer": "ipython3",
   "version": "3.7.7"
  }
 },
 "nbformat": 4,
 "nbformat_minor": 4
}
