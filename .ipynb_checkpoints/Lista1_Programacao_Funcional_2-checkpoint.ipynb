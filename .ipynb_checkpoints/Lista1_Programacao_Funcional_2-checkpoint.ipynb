{
 "cells": [
  {
   "cell_type": "markdown",
   "metadata": {},
   "source": [
    "# Lista de Exercícios"
   ]
  },
  {
   "cell_type": "markdown",
   "metadata": {},
   "source": [
    "***Q1:***$\\quad$ Escreva, em notação de somatório, as somas dos termos a seguir,\n",
    "para um número $n$ de parcelas dado:\n",
    "  \n",
    "  - $1 + {1 \\over 2} + {1 \\over 3} + {1 \\over 4} + {1 \\over 5} + {1 \\over 6}+ \\cdots$\n",
    "  $$\\sum_{k = 1}^{n} {1 \\over k}$$\n",
    "  - $1 + {1 \\over 3} + {1 \\over 5} + {1 \\over 7} + {1 \\over 9} \\cdots $\n",
    "  $$\\sum_{k = 1}^{n} {1 \\over 2k-1}$$\n",
    "  - $1 + {1 \\over 1!}+ {1 \\over 2!}+ {1 \\over 3!} + {1 \\over 4!} + {1 \\over 5!}\n",
    "  + \\cdots $\n",
    "  $$\\sum_{k = 1}^{n} {1 \\over k((k-1)!)}$$\n",
    "  - $1 + 1 + {1 \\over 2} + {1 \\over 4} + {1 \\over 8} + {1 \\over 16} + \\cdots $\n",
    "  $$\\sum_{k = 1}^{n} {1 \\over 2^k}$$"
   ]
  },
  {
   "cell_type": "markdown",
   "metadata": {},
   "source": [
    "Trabalho manual (parecido com Q5). Entender a lei de geracao dos termos. O somatorio na programacao é um for."
   ]
  },
  {
   "cell_type": "markdown",
   "metadata": {},
   "source": [
    "***Q2:***$\\quad$ Utilizando a função `map` gere cada uma das listas a\n",
    "seguir, para um número $n$ de termos dado:"
   ]
  },
  {
   "cell_type": "code",
   "execution_count": 9,
   "metadata": {},
   "outputs": [
    {
     "data": {
      "text/plain": [
       "app_function (generic function with 1 method)"
      ]
     },
     "execution_count": 9,
     "metadata": {},
     "output_type": "execute_result"
    }
   ],
   "source": [
    "apply_function = func -> value -> map(func, 1:value)\n",
    "\n",
    "function app_function(func, value)\n",
    "    return map(func, 1: value)\n",
    "end"
   ]
  },
  {
   "cell_type": "code",
   "execution_count": 14,
   "metadata": {},
   "outputs": [
    {
     "data": {
      "text/plain": [
       "4-element Array{Float64,1}:\n",
       " 1.0\n",
       " 0.3333333333333333\n",
       " 0.2\n",
       " 0.14285714285714285"
      ]
     },
     "execution_count": 14,
     "metadata": {},
     "output_type": "execute_result"
    }
   ],
   "source": [
    "#usando funcao e apenas mudando os parametros\n",
    "apply_function(n->1/(2n-1))(4)"
   ]
  },
  {
   "cell_type": "markdown",
   "metadata": {},
   "source": [
    "  - $[ 1, {1 \\over 2}, {1 \\over 3}, {1 \\over 4}, {1 \\over 5}, {1 \\over 6}, \\cdots ] $"
   ]
  },
  {
   "cell_type": "code",
   "execution_count": 2,
   "metadata": {},
   "outputs": [
    {
     "data": {
      "text/plain": [
       "6-element Array{Float64,1}:\n",
       " 1.0\n",
       " 0.5\n",
       " 0.3333333333333333\n",
       " 0.25\n",
       " 0.2\n",
       " 0.16666666666666666"
      ]
     },
     "execution_count": 2,
     "metadata": {},
     "output_type": "execute_result"
    }
   ],
   "source": [
    "map(n -> 1/n, 1:6)"
   ]
  },
  {
   "cell_type": "markdown",
   "metadata": {},
   "source": [
    "  - $[ 1, {1 \\over 3}, {1 \\over 5}, {1 \\over 7}, {1 \\over 9} \\cdots ] $"
   ]
  },
  {
   "cell_type": "code",
   "execution_count": 3,
   "metadata": {},
   "outputs": [
    {
     "data": {
      "text/plain": [
       "4-element Array{Float64,1}:\n",
       " 1.0\n",
       " 0.3333333333333333\n",
       " 0.2\n",
       " 0.14285714285714285"
      ]
     },
     "execution_count": 3,
     "metadata": {},
     "output_type": "execute_result"
    }
   ],
   "source": [
    "map(n->1/(2n-1), 1:4)"
   ]
  },
  {
   "cell_type": "markdown",
   "metadata": {},
   "source": [
    "  - $[ 1, {1 \\over 1!}, {1 \\over 2!}, {1 \\over 3!}, {1 \\over 4!}, {1 \\over 5!}, \\cdots ]$"
   ]
  },
  {
   "cell_type": "code",
   "execution_count": 2,
   "metadata": {},
   "outputs": [
    {
     "data": {
      "text/plain": [
       "5-element Array{Float64,1}:\n",
       " 1.0\n",
       " 0.5\n",
       " 0.16666666666666666\n",
       " 0.041666666666666664\n",
       " 0.008333333333333333"
      ]
     },
     "execution_count": 2,
     "metadata": {},
     "output_type": "execute_result"
    }
   ],
   "source": [
    "function fat(n)\n",
    "    if n == 0 return 1 end\n",
    "    return n * fat(n-1)\n",
    "end\n",
    "map(n->1/(n*fat((n-1))), 1:5)"
   ]
  },
  {
   "cell_type": "markdown",
   "metadata": {},
   "source": [
    "  - $[ 1, {1 \\over 2}, {1 \\over 4}, {1 \\over 8}, {1 \\over 16}, \\cdots ]$"
   ]
  },
  {
   "cell_type": "code",
   "execution_count": 6,
   "metadata": {},
   "outputs": [
    {
     "data": {
      "text/plain": [
       "4-element Array{Float64,1}:\n",
       " 0.5\n",
       " 0.25\n",
       " 0.125\n",
       " 0.0625"
      ]
     },
     "execution_count": 6,
     "metadata": {},
     "output_type": "execute_result"
    }
   ],
   "source": [
    "map(n->1/(2^n),1:4)"
   ]
  },
  {
   "cell_type": "markdown",
   "metadata": {},
   "source": [
    "***Q3:***$\\quad$ Implemente os itens acima por meio de *list comprehension*."
   ]
  },
  {
   "cell_type": "code",
   "execution_count": 77,
   "metadata": {},
   "outputs": [
    {
     "data": {
      "text/plain": [
       "12-element Array{Int64,1}:\n",
       "   16\n",
       "   64\n",
       "  144\n",
       "  256\n",
       "  400\n",
       "  576\n",
       "  784\n",
       " 1024\n",
       " 1296\n",
       " 1600\n",
       " 1936\n",
       " 2304"
      ]
     },
     "execution_count": 77,
     "metadata": {},
     "output_type": "execute_result"
    }
   ],
   "source": [
    "#                     pegando apenas os quadrados de numeros multiplos de 4\n",
    "#list coimprehension faz o mesmo trabalho do map e do filter ao mesmo tempo\n",
    "[n^2 for n in 1:50 if n%4==0]"
   ]
  },
  {
   "cell_type": "markdown",
   "metadata": {},
   "source": [
    "  - $[ 1, {1 \\over 2}, {1 \\over 3}, {1 \\over 4}, {1 \\over 5}, {1 \\over 6}, \\cdots ] $"
   ]
  },
  {
   "cell_type": "code",
   "execution_count": 78,
   "metadata": {},
   "outputs": [
    {
     "data": {
      "text/plain": [
       "6-element Array{Float64,1}:\n",
       " 1.0\n",
       " 0.5\n",
       " 0.3333333333333333\n",
       " 0.25\n",
       " 0.2\n",
       " 0.16666666666666666"
      ]
     },
     "execution_count": 78,
     "metadata": {},
     "output_type": "execute_result"
    }
   ],
   "source": [
    "[1/n for n in 1:6]"
   ]
  },
  {
   "cell_type": "markdown",
   "metadata": {},
   "source": [
    "  - $[ 1, {1 \\over 3}, {1 \\over 5}, {1 \\over 7}, {1 \\over 9} \\cdots ] $"
   ]
  },
  {
   "cell_type": "code",
   "execution_count": 79,
   "metadata": {},
   "outputs": [
    {
     "data": {
      "text/plain": [
       "5-element Array{Float64,1}:\n",
       " 1.0\n",
       " 0.3333333333333333\n",
       " 0.2\n",
       " 0.14285714285714285\n",
       " 0.1111111111111111"
      ]
     },
     "execution_count": 79,
     "metadata": {},
     "output_type": "execute_result"
    }
   ],
   "source": [
    "[1/(2n-1) for n in 1:5]"
   ]
  },
  {
   "cell_type": "markdown",
   "metadata": {},
   "source": [
    "  - $[ 1, {1 \\over 1!}, {1 \\over 2!}, {1 \\over 3!}, {1 \\over 4!}, {1 \\over 5!}, \\cdots ]$"
   ]
  },
  {
   "cell_type": "code",
   "execution_count": 80,
   "metadata": {},
   "outputs": [
    {
     "data": {
      "text/plain": [
       "5-element Array{Float64,1}:\n",
       " 1.0\n",
       " 0.5\n",
       " 0.16666666666666666\n",
       " 0.041666666666666664\n",
       " 0.008333333333333333"
      ]
     },
     "execution_count": 80,
     "metadata": {},
     "output_type": "execute_result"
    }
   ],
   "source": [
    "function fat(n)\n",
    "    if n == 0 return 1 end\n",
    "    return n * fat(n-1)\n",
    "end\n",
    "[1/(n*fat(n-1)) for n in 1:5]"
   ]
  },
  {
   "cell_type": "markdown",
   "metadata": {},
   "source": [
    "  - $[ 1, {1 \\over 2}, {1 \\over 4}, {1 \\over 8}, {1 \\over 16}, \\cdots ]$"
   ]
  },
  {
   "cell_type": "code",
   "execution_count": 81,
   "metadata": {},
   "outputs": [
    {
     "data": {
      "text/plain": [
       "4-element Array{Float64,1}:\n",
       " 0.5\n",
       " 0.25\n",
       " 0.125\n",
       " 0.0625"
      ]
     },
     "execution_count": 81,
     "metadata": {},
     "output_type": "execute_result"
    }
   ],
   "source": [
    "[1/(2^n) for n in 1:4]"
   ]
  },
  {
   "cell_type": "markdown",
   "metadata": {},
   "source": [
    "***Q4:***$\\quad$ Escreva um programa que calcule $n!$, o fatorial de um número $n$ dado, segundo:\n",
    "  - (a) o *Paradigma Imperativo de Programação*;\n",
    "  - (b) o *Paradigma Funcional* com uma função recursiva dotada de um único parâmetro;\n",
    "  - (c) o *Paradigma Funcional* com recursividade de cauda."
   ]
  },
  {
   "cell_type": "code",
   "execution_count": 82,
   "metadata": {},
   "outputs": [
    {
     "data": {
      "text/plain": [
       "fat_imp (generic function with 1 method)"
      ]
     },
     "execution_count": 82,
     "metadata": {},
     "output_type": "execute_result"
    }
   ],
   "source": [
    "# (a)\n",
    "function fat_imp(n)\n",
    "    fact = one(n)\n",
    "    for m in 1:n\n",
    "        fact *= m\n",
    "    end\n",
    "    fact\n",
    "end"
   ]
  },
  {
   "cell_type": "code",
   "execution_count": 83,
   "metadata": {},
   "outputs": [
    {
     "data": {
      "text/plain": [
       "120"
      ]
     },
     "execution_count": 83,
     "metadata": {},
     "output_type": "execute_result"
    }
   ],
   "source": [
    "fat_imp(5)"
   ]
  },
  {
   "cell_type": "code",
   "execution_count": 84,
   "metadata": {},
   "outputs": [
    {
     "data": {
      "text/plain": [
       "fat_rec (generic function with 1 method)"
      ]
     },
     "execution_count": 84,
     "metadata": {},
     "output_type": "execute_result"
    }
   ],
   "source": [
    "# (b)\n",
    "#se n == 0 entao vira 1 // else: n*fat_rec(n-1)\n",
    "fat_rec(n) = n == 0 ? 1 : n * fat_rec(n - 1)"
   ]
  },
  {
   "cell_type": "code",
   "execution_count": 85,
   "metadata": {},
   "outputs": [
    {
     "data": {
      "text/plain": [
       "120"
      ]
     },
     "execution_count": 85,
     "metadata": {},
     "output_type": "execute_result"
    }
   ],
   "source": [
    "fat_rec(5)"
   ]
  },
  {
   "cell_type": "code",
   "execution_count": 86,
   "metadata": {},
   "outputs": [
    {
     "data": {
      "text/plain": [
       "fatTail (generic function with 1 method)"
      ]
     },
     "execution_count": 86,
     "metadata": {},
     "output_type": "execute_result"
    }
   ],
   "source": [
    "# (c)\n",
    "function fatTail(n, acc)\n",
    "    if n == 0 return acc end\n",
    "    return fatTail(n-1, n*acc)\n",
    "end"
   ]
  },
  {
   "cell_type": "code",
   "execution_count": 87,
   "metadata": {},
   "outputs": [
    {
     "data": {
      "text/plain": [
       "120"
      ]
     },
     "execution_count": 87,
     "metadata": {},
     "output_type": "execute_result"
    }
   ],
   "source": [
    "fatTail(5,1)"
   ]
  },
  {
   "cell_type": "markdown",
   "metadata": {},
   "source": [
    "***Q5:***$\\quad$ Utilizando os mesmos paradigmas de programação da questão\n",
    "anterior, escreva funções que, dado o número $n$ de parcelas, calcule o valor do somatório\n",
    "$$\\sum_{k = 1}^{n} {1 \\over 2^k}$$"
   ]
  },
  {
   "cell_type": "code",
   "execution_count": 88,
   "metadata": {},
   "outputs": [
    {
     "data": {
      "text/plain": [
       "soma_Tail (generic function with 1 method)"
      ]
     },
     "execution_count": 88,
     "metadata": {},
     "output_type": "execute_result"
    }
   ],
   "source": [
    "function soma_imp(n)\n",
    "    soma = 0\n",
    "    for k in 1:n\n",
    "        soma += 1/(2^k)\n",
    "    end\n",
    "    soma\n",
    "end\n",
    "\n",
    "soma_rec(n) = n == 1 ? 1/2^n : 1/2^n + soma_rec(n-1)\n",
    "\n",
    "function soma_Tail(n, acc)\n",
    "    if n == 0 return acc end\n",
    "    return soma_Tail(n-1, 1/2^n+acc)\n",
    "end"
   ]
  },
  {
   "cell_type": "code",
   "execution_count": 89,
   "metadata": {},
   "outputs": [
    {
     "data": {
      "text/plain": [
       "0.9375"
      ]
     },
     "execution_count": 89,
     "metadata": {},
     "output_type": "execute_result"
    }
   ],
   "source": [
    "soma_imp(4)"
   ]
  },
  {
   "cell_type": "code",
   "execution_count": 90,
   "metadata": {},
   "outputs": [
    {
     "data": {
      "text/plain": [
       "0.9375"
      ]
     },
     "execution_count": 90,
     "metadata": {},
     "output_type": "execute_result"
    }
   ],
   "source": [
    "soma_rec(4)"
   ]
  },
  {
   "cell_type": "code",
   "execution_count": 91,
   "metadata": {},
   "outputs": [
    {
     "data": {
      "text/plain": [
       "0.9375"
      ]
     },
     "execution_count": 91,
     "metadata": {},
     "output_type": "execute_result"
    }
   ],
   "source": [
    "soma_Tail(4,0)"
   ]
  },
  {
   "cell_type": "markdown",
   "metadata": {},
   "source": [
    "***Q6:***$\\quad$ Considerando as duas questões anteriores, realize medições de performance para as funções implementadas, tabulando o:\n",
    "1. *Tempo de execução* dos métodos à medida em que se aumenta o número $n$ de parcelas ou fatores.\n",
    "1. Verifique qual é o maior valor de $n$ com que você consegue executar cada função, antes que ocorra algum tipo de parada de execução."
   ]
  },
  {
   "cell_type": "code",
   "execution_count": 92,
   "metadata": {},
   "outputs": [
    {
     "name": "stdout",
     "output_type": "stream",
     "text": [
      "  3.924600 seconds (1.20 M allocations: 8.429 GiB, 5.78% gc time)\n",
      "  0.052431 seconds (100.00 k allocations: 67.930 MiB, 10.97% gc time)\n",
      "  0.000846 seconds (10.00 k allocations: 730.531 KiB)\n",
      "  0.623239 seconds (3.40 M allocations: 681.114 MiB, 9.88% gc time)\n",
      "  0.022480 seconds (329.96 k allocations: 14.009 MiB)\n",
      "  0.038740 seconds (319.98 k allocations: 14.009 MiB, 24.98% gc time)\n"
     ]
    },
    {
     "data": {
      "text/plain": [
       "1.0"
      ]
     },
     "execution_count": 92,
     "metadata": {},
     "output_type": "execute_result"
    }
   ],
   "source": [
    "#Q4\n",
    "@time fat_imp(BigInt(99999)) # máximo aceito\n",
    "@time fat_rec(BigInt(9999)) # máximo aceito\n",
    "@time fatTail(BigInt(999),1) # máximo aceito\n",
    "\n",
    "#Q5\n",
    "@time soma_imp(BigInt(99999)) # máximo aceito\n",
    "@time soma_rec(BigInt(9999)) # máximo aceito\n",
    "@time soma_Tail(BigInt(9999),0) # máximo aceito"
   ]
  },
  {
   "cell_type": "markdown",
   "metadata": {},
   "source": [
    "***Q7:***$\\quad$ Para cada uma das expressões da ***Q1***, escreva um programa\n",
    "recursivo que compute o somatório indicado, para um número $n$ de parcelas dado."
   ]
  },
  {
   "cell_type": "code",
   "execution_count": null,
   "metadata": {},
   "outputs": [],
   "source": []
  },
  {
   "cell_type": "markdown",
   "metadata": {},
   "source": [
    "***Q8:***$\\quad$ Escreva uma função recursiva que calcule o comprimento de uma lista\n",
    "dada. Faça o mesmo cálculo utilizando *recursividade de cauda*."
   ]
  },
  {
   "cell_type": "code",
   "execution_count": 93,
   "metadata": {},
   "outputs": [
    {
     "data": {
      "text/plain": [
       "compriCauda (generic function with 1 method)"
      ]
     },
     "execution_count": 93,
     "metadata": {},
     "output_type": "execute_result"
    }
   ],
   "source": [
    "#esta está incompleta\n",
    "function compriRec(iter)\n",
    "    if iter== [] return 0 end\n",
    "    return compriRec(iter)\n",
    "end\n",
    "\n",
    "#esta está funcionando\n",
    "function compriCauda(iter, acc)\n",
    "    if iter == []\n",
    "        return acc\n",
    "    else\n",
    "        return compriCauda(rest(iter), acc+1)\n",
    "    end\n",
    "end"
   ]
  },
  {
   "cell_type": "code",
   "execution_count": 74,
   "metadata": {},
   "outputs": [
    {
     "data": {
      "text/plain": [
       "5"
      ]
     },
     "execution_count": 74,
     "metadata": {},
     "output_type": "execute_result"
    }
   ],
   "source": [
    "compriCauda([5, 2, 1, -5, -2], 0)"
   ]
  },
  {
   "cell_type": "markdown",
   "metadata": {},
   "source": [
    "***Q9:***$\\quad$  Escreva uma função recursiva que calcule o número $e$ (*número de Euler*, a base dos *logaritmos neperianos*), dada a quantidade $n$ de\n",
    "  parcelas (por recursividade simples e de cauda).\n",
    "  $$ e = 1 + {1 \\over 1!} + {1 \\over 2!} + {1 \\over 3!} + {1 \\over 4!} + \n",
    "  \\cdots + {1 \\over n!} + \\cdots $$"
   ]
  },
  {
   "cell_type": "code",
   "execution_count": 72,
   "metadata": {},
   "outputs": [
    {
     "ename": "LoadError",
     "evalue": "UndefVarError: fat not defined",
     "output_type": "error",
     "traceback": [
      "UndefVarError: fat not defined",
      "",
      "Stacktrace:",
      " [1] (::var\"#14#16\")(::Int64) at .\\In[72]:1",
      " [2] iterate at .\\generator.jl:47 [inlined]",
      " [3] _collect(::UnitRange{Int64}, ::Base.Generator{UnitRange{Int64},var\"#14#16\"}, ::Base.EltypeUnknown, ::Base.HasShape{1}) at .\\array.jl:699",
      " [4] collect_similar(::UnitRange{Int64}, ::Base.Generator{UnitRange{Int64},var\"#14#16\"}) at .\\array.jl:628",
      " [5] map(::Function, ::UnitRange{Int64}) at .\\abstractarray.jl:2162",
      " [6] top-level scope at In[72]:1",
      " [7] include_string(::Function, ::Module, ::String, ::String) at .\\loading.jl:1091"
     ]
    }
   ],
   "source": [
    "reduce((x, y)->x+y,map(n->1/(n*fat((n-1))), 1:5))\n",
    "\n",
    "reduce((x, y)->x+y,map(n->1/(n*fatTail((n-1),1)), 1:5))"
   ]
  },
  {
   "cell_type": "markdown",
   "metadata": {},
   "source": [
    "***Q10:***$\\quad$ Implemente recursivamente as funções `map`, `filter` e `reduce`."
   ]
  },
  {
   "cell_type": "code",
   "execution_count": 6,
   "metadata": {},
   "outputs": [
    {
     "data": {
      "text/plain": [
       "#9 (generic function with 1 method)"
      ]
     },
     "execution_count": 6,
     "metadata": {},
     "output_type": "execute_result"
    }
   ],
   "source": [
    "fst = sequencia -> sequencia[1]\n",
    "rest = sequencia -> sequencia[2:end]\n",
    "cons = (v, sequencia) -> vcat(v, sequencia)\n"
   ]
  },
  {
   "cell_type": "code",
   "execution_count": 4,
   "metadata": {},
   "outputs": [
    {
     "data": {
      "text/plain": [
       "7-element Array{Int64,1}:\n",
       " 1\n",
       " 2\n",
       " 3\n",
       " 4\n",
       " 5\n",
       " 6\n",
       " 7"
      ]
     },
     "execution_count": 4,
     "metadata": {},
     "output_type": "execute_result"
    }
   ],
   "source": [
    "valores = [1, 2, 3, 4, 5, 6, 7]"
   ]
  },
  {
   "cell_type": "code",
   "execution_count": 60,
   "metadata": {},
   "outputs": [
    {
     "data": {
      "text/plain": [
       "mapRec (generic function with 1 method)"
      ]
     },
     "execution_count": 60,
     "metadata": {},
     "output_type": "execute_result"
    }
   ],
   "source": [
    "# map\n",
    "function mapRec(f, iter)\n",
    "    return iter == [] ? [] : cons(f(fst(iter)), mapRec(f, rest(iter)))\n",
    "end"
   ]
  },
  {
   "cell_type": "code",
   "execution_count": 64,
   "metadata": {},
   "outputs": [
    {
     "data": {
      "text/plain": [
       "7-element Array{Any,1}:\n",
       "  3\n",
       "  6\n",
       "  9\n",
       " 12\n",
       " 15\n",
       " 18\n",
       " 21"
      ]
     },
     "execution_count": 64,
     "metadata": {},
     "output_type": "execute_result"
    }
   ],
   "source": [
    "mapRec(x->x*3, valores)"
   ]
  },
  {
   "cell_type": "code",
   "execution_count": 62,
   "metadata": {},
   "outputs": [
    {
     "data": {
      "text/plain": [
       "filterRec (generic function with 1 method)"
      ]
     },
     "execution_count": 62,
     "metadata": {},
     "output_type": "execute_result"
    }
   ],
   "source": [
    "# filter\n",
    "function filterRec(bool, iter) #(bool::Function, iter::AbstractArray)\n",
    "    if iter == [] return [] end\n",
    "    if bool(fst(iter))\n",
    "        return cons(fst(iter), filterRec(bool, rest(iter)))\n",
    "    else\n",
    "        return filterRec(bool, rest(iter))\n",
    "    end\n",
    "end"
   ]
  },
  {
   "cell_type": "code",
   "execution_count": 63,
   "metadata": {},
   "outputs": [
    {
     "data": {
      "text/plain": [
       "4-element Array{Any,1}:\n",
       " 4\n",
       " 5\n",
       " 6\n",
       " 7"
      ]
     },
     "execution_count": 63,
     "metadata": {},
     "output_type": "execute_result"
    }
   ],
   "source": [
    "filterRec(x->x>3, valores)"
   ]
  },
  {
   "cell_type": "code",
   "execution_count": 7,
   "metadata": {},
   "outputs": [
    {
     "data": {
      "text/plain": [
       "reduceRec (generic function with 1 method)"
      ]
     },
     "execution_count": 7,
     "metadata": {},
     "output_type": "execute_result"
    }
   ],
   "source": [
    "# reduce\n",
    "function reduceRec(bool, iter)\n",
    "    if rest(iter) == [] return fst(iter) end\n",
    "    return bool(fst(iter), reduceRec(bool, rest(iter)))\n",
    "end"
   ]
  },
  {
   "cell_type": "code",
   "execution_count": 8,
   "metadata": {},
   "outputs": [
    {
     "data": {
      "text/plain": [
       "5040"
      ]
     },
     "execution_count": 8,
     "metadata": {},
     "output_type": "execute_result"
    }
   ],
   "source": [
    "reduceRec((x, y)->x*y, valores)"
   ]
  },
  {
   "cell_type": "markdown",
   "metadata": {},
   "source": [
    "## Exemplos de funções"
   ]
  },
  {
   "cell_type": "code",
   "execution_count": 21,
   "metadata": {},
   "outputs": [
    {
     "data": {
      "text/plain": [
       "#31 (generic function with 1 method)"
      ]
     },
     "execution_count": 21,
     "metadata": {},
     "output_type": "execute_result"
    }
   ],
   "source": [
    "U = f -> f(f) # self-apply\n",
    "#\n",
    "# U(factU)(5)\n",
    "# U(factU)(0)\n",
    "# (U (factU))(5)\n",
    "\n",
    "# Y (Curry's paradoxical ) combinator\n",
    "Y = f -> ((x -> f(x(x)))(x -> f(x(x))))\n",
    "\n",
    "# Z-combinator: Y combinator adapted for using with call-by-value\n",
    "Z = f -> ((x -> (f(y -> ((x(x))(y)))))(x -> (f(y -> ((x(x))(y))))))\n",
    "#\n",
    "# Z(factZ)(5)\n",
    "\n",
    "#em baixo temos 2 funcoes de fatorial\n",
    "function fact_rec(n)\n",
    "    if n==0 return 1 end\n",
    "    return n * fact_rec(n-1)\n",
    "end\n",
    "\n",
    "function fact_tail(n, acc)\n",
    "    if n == 0 return acc end\n",
    "    return fact_tail(n-1, acc*n)\n",
    "end\n",
    "\n",
    "#esta aqui é a fact_tail porem sem precisar passar o argumento acc\n",
    "function fact_(n)\n",
    "    fact_tail(n, 1)\n",
    "end\n",
    "\n",
    "#exemplo de como chamar a fact_tail\n",
    "fact_tail(6, 1)\n",
    "# ou \n",
    "fact(6)"
   ]
  },
  {
   "cell_type": "markdown",
   "metadata": {},
   "source": [
    "***Q11:***$\\quad$ Utilizando o combinador U, escreva uma função recursiva que calcule o\n",
    "*Número de Euler* para uma quantidade $n$ de parcelas."
   ]
  },
  {
   "cell_type": "code",
   "execution_count": 67,
   "metadata": {},
   "outputs": [
    {
     "data": {
      "text/plain": [
       "factU"
      ]
     },
     "execution_count": 67,
     "metadata": {},
     "output_type": "execute_result"
    }
   ],
   "source": [
    "\"factorial for use with U-combinator (self-apply)\"\n",
    "factU = f -> n -> (\n",
    "            if n == 0 1\n",
    "                else n * (f(f)(n - 1)) end)\n",
    "#\n",
    "# U(factU)(5)\n",
    "# U(factU)(0)"
   ]
  },
  {
   "cell_type": "code",
   "execution_count": 68,
   "metadata": {},
   "outputs": [
    {
     "data": {
      "text/plain": [
       "120"
      ]
     },
     "execution_count": 68,
     "metadata": {},
     "output_type": "execute_result"
    }
   ],
   "source": [
    "U(factU)(5)"
   ]
  },
  {
   "cell_type": "markdown",
   "metadata": {},
   "source": [
    "***Q12:***$\\quad$ Utilizando o combinador Z, escreva uma função recursiva que calcule o\n",
    "*Número de Euler* para uma quantidade $n$ de parcelas."
   ]
  },
  {
   "cell_type": "code",
   "execution_count": 69,
   "metadata": {},
   "outputs": [
    {
     "data": {
      "text/plain": [
       "factZ"
      ]
     },
     "execution_count": 69,
     "metadata": {},
     "output_type": "execute_result"
    }
   ],
   "source": [
    "# some functions\n",
    "\n",
    "succ = x -> x + 1\n",
    "\n",
    "dobro = x -> 2x\n",
    "\n",
    "soma = x -> y -> x + y\n",
    "\n",
    "prod = x -> y -> x * y\n",
    "\n",
    "\"factorial with generator\"\n",
    "function fatorialGenerator(n::BigInt)\n",
    "    local acc\n",
    "    acc = 1\n",
    "    for i in 1:n\n",
    "        acc = acc * i\n",
    "    end\n",
    "    return acc\n",
    "end\n",
    "# fatorialGenerator(BigInt(300000))  # OK!\n",
    "\n",
    "\"recursive factorial\"\n",
    "function fatorial(n)\n",
    "    if n == 0       1\n",
    "        else        n * fatorial(n - 1)\n",
    "    end\n",
    "end\n",
    "\n",
    "\"factorial for use with Z-combinator\"\n",
    "factZ = f -> n -> (if n == 0 1 else n * (f(n - 1)) end)\n",
    "#\n",
    "# Z(factZ)(5)"
   ]
  },
  {
   "cell_type": "code",
   "execution_count": 70,
   "metadata": {},
   "outputs": [
    {
     "data": {
      "text/plain": [
       "120"
      ]
     },
     "execution_count": 70,
     "metadata": {},
     "output_type": "execute_result"
    }
   ],
   "source": [
    "Z(factZ)(5)"
   ]
  },
  {
   "cell_type": "code",
   "execution_count": null,
   "metadata": {},
   "outputs": [],
   "source": []
  }
 ],
 "metadata": {
  "kernelspec": {
   "display_name": "Python 3",
   "language": "python",
   "name": "python3"
  },
  "language_info": {
   "codemirror_mode": {
    "name": "ipython",
    "version": 3
   },
   "file_extension": ".py",
   "mimetype": "text/x-python",
   "name": "python",
   "nbconvert_exporter": "python",
   "pygments_lexer": "ipython3",
   "version": "3.7.7"
  }
 },
 "nbformat": 4,
 "nbformat_minor": 4
}
